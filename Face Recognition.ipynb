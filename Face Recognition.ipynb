{
 "cells": [
  {
   "cell_type": "code",
   "execution_count": 1,
   "id": "b391caca-5a37-4143-b86d-73280bbb688f",
   "metadata": {},
   "outputs": [],
   "source": [
    "import cv2"
   ]
  },
  {
   "cell_type": "code",
   "execution_count": 2,
   "id": "1b6d73aa-6f12-4394-ab80-5bc67bb0928f",
   "metadata": {},
   "outputs": [],
   "source": [
    "# Path to the Haar Cascade XML file\n",
    "face_cap=cv2.CascadeClassifier(\"C:/Users/vsawa/AppData/Local/Programs/Python/Python311/Lib/site-packages/cv2/data/haarcascade_frontalface_default.xml\")\n",
    "# Start capturing video\n",
    "video_cap=cv2.VideoCapture(0) # Use 0 for the default camera\n",
    "while True:\n",
    "    ret,video_data=video_cap.read()\n",
    "    \n",
    "    # Convert frame to grayscale\n",
    "    col=cv2.cvtColor(video_data,cv2.COLOR_BGR2GRAY)\n",
    "    # Detect faces\n",
    "    faces = face_cap.detectMultiScale(\n",
    "        col,\n",
    "        scaleFactor=1.1,\n",
    "        minNeighbors=5,\n",
    "        minSize=(30, 30),\n",
    "        flags=cv2.CASCADE_SCALE_IMAGE\n",
    "    )\n",
    "     # Draw rectangles around faces\n",
    "    for(x,y,w,h) in faces:\n",
    "        cv2.rectangle(video_data,(x,y),(x+w,y+h),(0,255,0),2)\n",
    "        \n",
    "        # Display the frame with detected faces\n",
    "    cv2.imshow(\"video_live\",video_data)\n",
    "    # Break the loop on 'a' key press\n",
    "    if cv2.waitKey(10)==ord(\"a\"):\n",
    "        break\n",
    "# Release resources\n",
    "video_cap.release()\n",
    "cv2.destroyAllWindows()"
   ]
  },
  {
   "cell_type": "code",
   "execution_count": null,
   "id": "0944f44d-379a-45bd-9f1f-1cf2bc5ff6bb",
   "metadata": {},
   "outputs": [],
   "source": [
    "\n",
    "\n",
    "\n",
    "\n",
    "    "
   ]
  },
  {
   "cell_type": "code",
   "execution_count": null,
   "id": "b638731f-7d1d-4edc-8411-da4d5cffde94",
   "metadata": {},
   "outputs": [],
   "source": []
  }
 ],
 "metadata": {
  "kernelspec": {
   "display_name": "Python 3 (ipykernel)",
   "language": "python",
   "name": "python3"
  },
  "language_info": {
   "codemirror_mode": {
    "name": "ipython",
    "version": 3
   },
   "file_extension": ".py",
   "mimetype": "text/x-python",
   "name": "python",
   "nbconvert_exporter": "python",
   "pygments_lexer": "ipython3",
   "version": "3.11.1"
  }
 },
 "nbformat": 4,
 "nbformat_minor": 5
}
